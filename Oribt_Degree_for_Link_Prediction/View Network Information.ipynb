{
 "cells": [
  {
   "cell_type": "code",
   "execution_count": 1,
   "metadata": {},
   "outputs": [],
   "source": [
    "import pickle"
   ]
  },
  {
   "cell_type": "code",
   "execution_count": 5,
   "metadata": {},
   "outputs": [
    {
     "name": "stdout",
     "output_type": "stream",
     "text": [
      "Norwegian_Board_of_Directors_net1mode_2002-05-01\n",
      "Social\n",
      "112 networks of the affiliations among board directors due to sitting on common boards of Norwegian public limited companies (as of 5 August 2009), from May 2002 onward, in monthly snapshots through August 2011. Some metadata is included, such as director and company names, city and postal code for companies, and gender for directors. Each of these one-mode projection network filenames begin with \\\"net1m.\\\"\n",
      "C. Seierstad and T. Opsahl, \"For the few not the many? The effects of affirmative action on presence, prominence, and social capital of women directors in Norway.\" Scand. J. Manag. 27(1), 44-54 (2011).\n"
     ]
    }
   ],
   "source": [
    "infile = open('OLP_updated.pickle','rb')  \n",
    "df = pickle.load(infile)\n",
    "infile.close()  \n",
    "# read edge lists for all networks\n",
    "df_edgelists = df['edges_id']                               \n",
    "all_name = list(df['network_name'])\n",
    "\n",
    "print(df['network_name'][132])\n",
    "print(df['networkDomain'][132])\n",
    "print(df['description'][132])\n",
    "print(df['citation'][132])\n"
   ]
  },
  {
   "cell_type": "code",
   "execution_count": null,
   "metadata": {},
   "outputs": [],
   "source": []
  }
 ],
 "metadata": {
  "kernelspec": {
   "display_name": "Python 3",
   "language": "python",
   "name": "python3"
  },
  "language_info": {
   "codemirror_mode": {
    "name": "ipython",
    "version": 3
   },
   "file_extension": ".py",
   "mimetype": "text/x-python",
   "name": "python",
   "nbconvert_exporter": "python",
   "pygments_lexer": "ipython3",
   "version": "3.8.5"
  }
 },
 "nbformat": 4,
 "nbformat_minor": 4
}
