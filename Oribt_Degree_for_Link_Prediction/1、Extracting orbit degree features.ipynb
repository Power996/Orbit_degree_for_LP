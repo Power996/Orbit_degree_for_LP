{
 "cells": [
  {
   "cell_type": "code",
   "execution_count": 4,
   "metadata": {},
   "outputs": [],
   "source": [
    "import pickle  \n",
    "import networkx as nx\n",
    "import random\n",
    "import numpy as np\n",
    "import copy\n",
    "import pandas as pd\n",
    "import itertools\n",
    "import math\n",
    "from tqdm import tqdm\n",
    "from scipy import integrate \n",
    "from collections import defaultdict\n",
    "from find_motifs import * #佳伟寻找模体的库\n",
    "from Motif_structures import * #轨道度结构"
   ]
  },
  {
   "cell_type": "code",
   "execution_count": 6,
   "metadata": {},
   "outputs": [],
   "source": [
    "moti = [M1, M2, M3, M4, M5, M6, M7, M8, M9, M10, M11, M12]\n",
    "moti_name = ['M1', 'M2', 'M3', 'M4', 'M5', 'M6', 'M7', 'M8', 'M9', 'M10', 'M11', 'M12']\n",
    "motif_index = []\n",
    "zip1 = zip(moti, moti_name)\n",
    "for i, j in zip1:\n",
    "    motif_index.append((i, j))\n",
    "    \n",
    "noti = [N1, N2, N3, N4, N5, N6, N7, N8, N9, N10, N11, N12, N13, N14, N15]\n",
    "noti_name = ['N1', 'N2', 'N3', 'N4', 'N5', 'N6', 'N7', 'N8', 'N9', 'N10', 'N11', 'N12', 'N13', 'N14', 'N15']\n",
    "notif_index = []\n",
    "zip2 = zip(noti, noti_name)\n",
    "for i, j in zip2:\n",
    "    notif_index.append((i, j))"
   ]
  },
  {
   "cell_type": "code",
   "execution_count": 7,
   "metadata": {},
   "outputs": [
    {
     "name": "stderr",
     "output_type": "stream",
     "text": [
      "100%|████████████████████████████████████████████████████████████████████████████████████| 1/1 [00:00<00:00,  5.14it/s]\n"
     ]
    }
   ],
   "source": [
    "infile = open('OLP_updated.pickle','rb')  \n",
    "df = pickle.load(infile)\n",
    "infile.close()  \n",
    "# read edge lists for all networks\n",
    "df_edgelists = df['edges_id']                               \n",
    "all_name = list(df['network_name'])\n",
    "\n",
    "for i in tqdm(range(len(df))):\n",
    "    file_name = './features/n_'+str(i)+'_features.csv'\n",
    "    ###################构建网络，并获取其属性##########################\n",
    "    edges_orig = df_edgelists.iloc[i] # a numpy array of edge list for original graph\n",
    "    file = df['network_name'][i]\n",
    "    num_edges = df['number_edges'][i] #下面是第i个网络的一些基本属性\n",
    "    num_nodes = df['number_nodes'][i]\n",
    "    ave_degree = df['ave_degree'][i]\n",
    "    domain = df['networkDomain'][i] \n",
    "    g1 = nx.Graph()\n",
    "    g1.add_edges_from(edges_orig)\n",
    "    \n",
    "    edges = list(g1.edges())\n",
    "    nodes = list(g1.nodes())\n",
    "    node_num = len(list(g1.nodes()))\n",
    "    remove_edge_num = int(len(edges)*0.2)#训练集边的数量 \n",
    "    all_edges = list(g1.edges())\n",
    "    edge_all = list(g1.edges())\n",
    "    \n",
    "    \n",
    "    \n",
    "    ####################train network#######################\n",
    "    train_g = copy.deepcopy(g1)\n",
    "    remove_edges = random.sample(edge_all, remove_edge_num)#20%的missing links\n",
    "    train_g.remove_edges_from(remove_edges)\n",
    "    \n",
    "    #positive sample\n",
    "    positive_samples = remove_edges\n",
    "    \n",
    "        ########################  build nonexistent samples ####################     \n",
    "    negitive_samples = []                             \n",
    "    while len(negitive_samples) < len(positive_samples):\n",
    "        u = random.choice(nodes)# random a node\n",
    "        v = random.choice(nodes)\n",
    "        if u != v and (u,v) not in all_edges and (v,u) not in all_edges and (u,v) not in negitive_samples and (v,u) not in negitive_samples:\n",
    "            negitive_samples.append((u,v)) \n",
    "    ###################### end ################################\n",
    "    \n",
    "    X = defaultdict(list)\n",
    "    X['edge'] = positive_samples + negitive_samples\n",
    "    X['label'] = [1]*len(positive_samples) + [0]*len(negitive_samples)\n",
    "    \n",
    "    all_samples = positive_samples + negitive_samples\n",
    "    \n",
    "    ###########################15 node orbit degree features###################\n",
    "    individual_nodes = sorted(set(element for tup in all_samples for element in tup))\n",
    "    node_orbit_degree_dict = {} #key：node，value：orbit degree list   \n",
    "    for node in individual_nodes: \n",
    "        node_orbit_degree = []\n",
    "        for n in noti:\n",
    "            node_orbit_degree.append(node_orbit_motif_degree(train_g,n,node,1))\n",
    "        node_orbit_degree_dict[node] = node_orbit_degree\n",
    "    for j in range(len(noti_name)):\n",
    "        res = []\n",
    "        for one_node_pair in  all_samples:\n",
    "            res.append(node_orbit_degree_dict[one_node_pair[0]][j]*node_orbit_degree_dict[one_node_pair[1]][j])\n",
    "        X[noti_name[j]]= res\n",
    "        \n",
    "    \n",
    "    ###########################12 edge orbit degree features###################\n",
    "    for m in motif_index: \n",
    "        res = []\n",
    "        for one in all_samples:\n",
    "            a = edge_orbit_motif_degree(train_g,m[0],one,(1,2))\n",
    "            res.append(a)\n",
    "        X[m[1]]= res\n",
    "    df_features = pd.DataFrame(X)\n",
    "    \n",
    "    df_features.to_csv(file_name,index = False)"
   ]
  },
  {
   "cell_type": "code",
   "execution_count": null,
   "metadata": {},
   "outputs": [],
   "source": []
  },
  {
   "cell_type": "code",
   "execution_count": null,
   "metadata": {},
   "outputs": [],
   "source": []
  }
 ],
 "metadata": {
  "kernelspec": {
   "display_name": "Python 3",
   "language": "python",
   "name": "python3"
  },
  "language_info": {
   "codemirror_mode": {
    "name": "ipython",
    "version": 3
   },
   "file_extension": ".py",
   "mimetype": "text/x-python",
   "name": "python",
   "nbconvert_exporter": "python",
   "pygments_lexer": "ipython3",
   "version": "3.8.5"
  }
 },
 "nbformat": 4,
 "nbformat_minor": 5
}
